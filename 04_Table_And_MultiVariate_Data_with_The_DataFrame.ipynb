{
  "nbformat": 4,
  "nbformat_minor": 0,
  "metadata": {
    "anaconda-cloud": {},
    "kernelspec": {
      "display_name": "Python 3",
      "language": "python",
      "name": "python3"
    },
    "language_info": {
      "codemirror_mode": {
        "name": "ipython",
        "version": 3
      },
      "file_extension": ".py",
      "mimetype": "text/x-python",
      "name": "python",
      "nbconvert_exporter": "python",
      "pygments_lexer": "ipython3",
      "version": "3.6.1"
    },
    "colab": {
      "name": "04_Table_And_MultiVariate_Data_with_The_DataFrame.ipynb",
      "provenance": [],
      "include_colab_link": true
    }
  },
  "cells": [
    {
      "cell_type": "markdown",
      "metadata": {
        "id": "view-in-github",
        "colab_type": "text"
      },
      "source": [
        "<a href=\"https://colab.research.google.com/github/anko80197/AI/blob/master/04_Table_And_MultiVariate_Data_with_The_DataFrame.ipynb\" target=\"_parent\"><img src=\"https://colab.research.google.com/assets/colab-badge.svg\" alt=\"Open In Colab\"/></a>"
      ]
    },
    {
      "cell_type": "markdown",
      "metadata": {
        "id": "PdrLqT4gs353",
        "colab_type": "text"
      },
      "source": [
        "# Configuring pandas"
      ]
    },
    {
      "cell_type": "code",
      "metadata": {
        "id": "arGwK-cAs354",
        "colab_type": "code",
        "colab": {}
      },
      "source": [
        "# import numpy and pandas\n",
        "import numpy as np\n",
        "import pandas as pd\n",
        "\n",
        "# used for dates\n",
        "import datetime\n",
        "from datetime import datetime, date\n",
        "\n",
        "# Set some pandas options controlling output format\n",
        "pd.set_option('display.notebook_repr_html', False)\n",
        "pd.set_option('display.max_columns', 8)\n",
        "pd.set_option('display.max_rows', 10)\n",
        "pd.set_option('display.width', 80)\n",
        "\n",
        "# bring in matplotlib for graphics\n",
        "import matplotlib.pyplot as plt\n",
        "%matplotlib inline"
      ],
      "execution_count": 0,
      "outputs": []
    },
    {
      "cell_type": "markdown",
      "metadata": {
        "id": "aLHst2ENs358",
        "colab_type": "text"
      },
      "source": [
        "# Creating a DataFrame using NumPy function results"
      ]
    },
    {
      "cell_type": "code",
      "metadata": {
        "id": "eqOoEbB8s359",
        "colab_type": "code",
        "outputId": "b1a4d171-edb5-40e7-a89b-844df8d16748",
        "colab": {}
      },
      "source": [
        "# From a 1-d array\n",
        "pd.DataFrame(np.arange(1, 6))"
      ],
      "execution_count": 0,
      "outputs": [
        {
          "output_type": "execute_result",
          "data": {
            "text/plain": [
              "   0\n",
              "0  1\n",
              "1  2\n",
              "2  3\n",
              "3  4\n",
              "4  5"
            ]
          },
          "metadata": {
            "tags": []
          },
          "execution_count": 2
        }
      ]
    },
    {
      "cell_type": "code",
      "metadata": {
        "id": "WENAUNRts36A",
        "colab_type": "code",
        "outputId": "56188d0f-ae6f-4431-e99f-9c895c7c2a02",
        "colab": {}
      },
      "source": [
        "# create a DataFrame from a 2-d ndarray\n",
        "df = pd.DataFrame(np.array([[10, 11], [20, 21]]))\n",
        "df"
      ],
      "execution_count": 0,
      "outputs": [
        {
          "output_type": "execute_result",
          "data": {
            "text/plain": [
              "    0   1\n",
              "0  10  11\n",
              "1  20  21"
            ]
          },
          "metadata": {
            "tags": []
          },
          "execution_count": 3
        }
      ]
    },
    {
      "cell_type": "code",
      "metadata": {
        "id": "rcfu0Wg7s36D",
        "colab_type": "code",
        "outputId": "f556681f-7263-482b-b981-7d8684a2fce1",
        "colab": {}
      },
      "source": [
        "# retrieve the columns index\n",
        "df.columns"
      ],
      "execution_count": 0,
      "outputs": [
        {
          "output_type": "execute_result",
          "data": {
            "text/plain": [
              "RangeIndex(start=0, stop=2, step=1)"
            ]
          },
          "metadata": {
            "tags": []
          },
          "execution_count": 4
        }
      ]
    },
    {
      "cell_type": "code",
      "metadata": {
        "id": "HqaPWNwms36G",
        "colab_type": "code",
        "outputId": "45e0d94a-09e2-441a-ca74-3abb2cac5052",
        "colab": {}
      },
      "source": [
        "# specify column names\n",
        "df = pd.DataFrame(np.array([[70, 71], [90, 91]]),\n",
        "                  columns=['Missoula', 'Philadelphia'])\n",
        "df"
      ],
      "execution_count": 0,
      "outputs": [
        {
          "output_type": "execute_result",
          "data": {
            "text/plain": [
              "   Missoula  Philadelphia\n",
              "0        70            71\n",
              "1        90            91"
            ]
          },
          "metadata": {
            "tags": []
          },
          "execution_count": 5
        }
      ]
    },
    {
      "cell_type": "code",
      "metadata": {
        "id": "vSbwqTI9s36J",
        "colab_type": "code",
        "outputId": "19e62194-3429-4e9f-ee8a-0d116c35f588",
        "colab": {}
      },
      "source": [
        "# how many rows?\n",
        "len(df)"
      ],
      "execution_count": 0,
      "outputs": [
        {
          "output_type": "execute_result",
          "data": {
            "text/plain": [
              "2"
            ]
          },
          "metadata": {
            "tags": []
          },
          "execution_count": 6
        }
      ]
    },
    {
      "cell_type": "code",
      "metadata": {
        "id": "qjG1KhiGs36N",
        "colab_type": "code",
        "outputId": "f3379e47-a37a-4c02-e4b6-e0b083da21ff",
        "colab": {}
      },
      "source": [
        "# what is the dimensionality\n",
        "df.shape"
      ],
      "execution_count": 0,
      "outputs": [
        {
          "output_type": "execute_result",
          "data": {
            "text/plain": [
              "(2, 2)"
            ]
          },
          "metadata": {
            "tags": []
          },
          "execution_count": 7
        }
      ]
    },
    {
      "cell_type": "markdown",
      "metadata": {
        "id": "GBTRDH80s36Q",
        "colab_type": "text"
      },
      "source": [
        "# Creating a DataFrame using a Python dictionary and pandas Series objects"
      ]
    },
    {
      "cell_type": "code",
      "metadata": {
        "id": "Cisg-Ochs36R",
        "colab_type": "code",
        "outputId": "07ce3ad9-31a7-4296-d01d-60da453b005d",
        "colab": {}
      },
      "source": [
        "# initialization using a python dictionary\n",
        "temps_missoula = [70, 71]\n",
        "temps_philly = [90, 91]\n",
        "temperatures = {'Missoula': temps_missoula,\n",
        "                'Philadelphia': temps_philly}\n",
        "pd.DataFrame(temperatures)"
      ],
      "execution_count": 0,
      "outputs": [
        {
          "output_type": "execute_result",
          "data": {
            "text/plain": [
              "   Missoula  Philadelphia\n",
              "0        70            90\n",
              "1        71            91"
            ]
          },
          "metadata": {
            "tags": []
          },
          "execution_count": 8
        }
      ]
    },
    {
      "cell_type": "code",
      "metadata": {
        "id": "leZ32H2Is36U",
        "colab_type": "code",
        "outputId": "524f55a5-c1cd-4c1d-ea39-c9bbbe458235",
        "colab": {}
      },
      "source": [
        "# create a DataFrame for a list of Series objects\n",
        "temps_at_time0 = pd.Series([70, 90])\n",
        "temps_at_time1 = pd.Series([71, 91])\n",
        "df = pd.DataFrame([temps_at_time0, temps_at_time1])\n",
        "df"
      ],
      "execution_count": 0,
      "outputs": [
        {
          "output_type": "execute_result",
          "data": {
            "text/plain": [
              "    0   1\n",
              "0  70  90\n",
              "1  71  91"
            ]
          },
          "metadata": {
            "tags": []
          },
          "execution_count": 9
        }
      ]
    },
    {
      "cell_type": "code",
      "metadata": {
        "id": "E9zXUNMTs36X",
        "colab_type": "code",
        "outputId": "f596ece2-c8b9-4622-e43a-4ded3f5ae2cf",
        "colab": {}
      },
      "source": [
        "# try to specify column names\n",
        "df = pd.DataFrame([temps_at_time0, temps_at_time1],\n",
        "                  columns=['Missoula', 'Philadelphia'])\n",
        "df"
      ],
      "execution_count": 0,
      "outputs": [
        {
          "output_type": "execute_result",
          "data": {
            "text/plain": [
              "   Missoula  Philadelphia\n",
              "0       NaN           NaN\n",
              "1       NaN           NaN"
            ]
          },
          "metadata": {
            "tags": []
          },
          "execution_count": 10
        }
      ]
    },
    {
      "cell_type": "code",
      "metadata": {
        "id": "uJv1Wqk4s36a",
        "colab_type": "code",
        "outputId": "7acc3b3f-84df-404a-ffd3-a78dc9ddce34",
        "colab": {}
      },
      "source": [
        "# specify names of columns after creation\n",
        "df = pd.DataFrame([temps_at_time0, temps_at_time1])\n",
        "df.columns = ['Missoula', 'Philadelphia']\n",
        "df"
      ],
      "execution_count": 0,
      "outputs": [
        {
          "output_type": "execute_result",
          "data": {
            "text/plain": [
              "   Missoula  Philadelphia\n",
              "0        70            90\n",
              "1        71            91"
            ]
          },
          "metadata": {
            "tags": []
          },
          "execution_count": 11
        }
      ]
    },
    {
      "cell_type": "code",
      "metadata": {
        "id": "2KCmV5OBs36c",
        "colab_type": "code",
        "outputId": "e814407b-777b-4172-957f-09ab14f4ad2b",
        "colab": {}
      },
      "source": [
        "# construct using a dict of Series objects\n",
        "temps_mso_series = pd.Series(temps_missoula)\n",
        "temps_phl_series = pd.Series(temps_philly)\n",
        "df = pd.DataFrame({'Missoula': temps_mso_series,\n",
        "                   'Philadelphia': temps_phl_series})\n",
        "df"
      ],
      "execution_count": 0,
      "outputs": [
        {
          "output_type": "execute_result",
          "data": {
            "text/plain": [
              "   Missoula  Philadelphia\n",
              "0        70            90\n",
              "1        71            91"
            ]
          },
          "metadata": {
            "tags": []
          },
          "execution_count": 12
        }
      ]
    },
    {
      "cell_type": "code",
      "metadata": {
        "id": "SKQroaaVs36f",
        "colab_type": "code",
        "outputId": "5ad361ac-66c4-4535-903b-9fc20a107a63",
        "colab": {}
      },
      "source": [
        "# alignment occurs during creation\n",
        "temps_nyc_series = pd.Series([85, 87], index=[1, 2])\n",
        "df = pd.DataFrame({'Missoula': temps_mso_series,\n",
        "                   'Philadelphia': temps_phl_series,\n",
        "                   'New York': temps_nyc_series})\n",
        "df"
      ],
      "execution_count": 0,
      "outputs": [
        {
          "output_type": "execute_result",
          "data": {
            "text/plain": [
              "   Missoula  New York  Philadelphia\n",
              "0      70.0       NaN          90.0\n",
              "1      71.0      85.0          91.0\n",
              "2       NaN      87.0           NaN"
            ]
          },
          "metadata": {
            "tags": []
          },
          "execution_count": 13
        }
      ]
    },
    {
      "cell_type": "markdown",
      "metadata": {
        "id": "RMxT1RB4s36i",
        "colab_type": "text"
      },
      "source": [
        "# Creating a DataFrame from a CSV file"
      ]
    },
    {
      "cell_type": "code",
      "metadata": {
        "id": "RJedGiS2s36j",
        "colab_type": "code",
        "colab": {}
      },
      "source": [
        "# read in the data and print the first five rows\n",
        "# use the Symbol column as the index, and \n",
        "# only read in columns in positions 0, 2, 3, 7\n",
        "sp500 = pd.read_csv(\"data/sp500.csv\", \n",
        "                    index_col='Symbol', \n",
        "                    usecols=[0, 2, 3, 7])"
      ],
      "execution_count": 0,
      "outputs": []
    },
    {
      "cell_type": "code",
      "metadata": {
        "id": "VhFQlhG7s36m",
        "colab_type": "code",
        "outputId": "372736b9-8219-4726-9c96-faa14c661811",
        "colab": {}
      },
      "source": [
        "# peek at the first 5 rows of the data using .head()\n",
        "sp500.head()"
      ],
      "execution_count": 0,
      "outputs": [
        {
          "output_type": "execute_result",
          "data": {
            "text/plain": [
              "                        Sector   Price  Book Value\n",
              "Symbol                                            \n",
              "MMM                Industrials  141.14      26.668\n",
              "ABT                Health Care   39.60      15.573\n",
              "ABBV               Health Care   53.95       2.954\n",
              "ACN     Information Technology   79.79       8.326\n",
              "ACE                 Financials  102.91      86.897"
            ]
          },
          "metadata": {
            "tags": []
          },
          "execution_count": 15
        }
      ]
    },
    {
      "cell_type": "code",
      "metadata": {
        "id": "5C_CjTfPs36o",
        "colab_type": "code",
        "outputId": "a8dcd80f-644c-4185-c9f1-ddd4b4835935",
        "colab": {}
      },
      "source": [
        "# how many rows of data?  Should be 500\n",
        "len(sp500)"
      ],
      "execution_count": 0,
      "outputs": [
        {
          "output_type": "execute_result",
          "data": {
            "text/plain": [
              "500"
            ]
          },
          "metadata": {
            "tags": []
          },
          "execution_count": 16
        }
      ]
    },
    {
      "cell_type": "code",
      "metadata": {
        "id": "6hDG6r1cs36q",
        "colab_type": "code",
        "outputId": "388299a1-0533-48b1-bd95-90b780e172f4",
        "colab": {}
      },
      "source": [
        "# what is the shape?\n",
        "sp500.shape"
      ],
      "execution_count": 0,
      "outputs": [
        {
          "output_type": "execute_result",
          "data": {
            "text/plain": [
              "(500, 3)"
            ]
          },
          "metadata": {
            "tags": []
          },
          "execution_count": 17
        }
      ]
    },
    {
      "cell_type": "code",
      "metadata": {
        "id": "5awOa27As36t",
        "colab_type": "code",
        "outputId": "897d7d86-b7e0-48b8-e9a1-2c7d7a5abc96",
        "colab": {}
      },
      "source": [
        "# what is the size?\n",
        "sp500.size"
      ],
      "execution_count": 0,
      "outputs": [
        {
          "output_type": "execute_result",
          "data": {
            "text/plain": [
              "1500"
            ]
          },
          "metadata": {
            "tags": []
          },
          "execution_count": 18
        }
      ]
    },
    {
      "cell_type": "code",
      "metadata": {
        "id": "vTZyVIGss36v",
        "colab_type": "code",
        "outputId": "5108ef0d-9d8d-44b0-e26e-fd81fecdd327",
        "colab": {}
      },
      "source": [
        "# examine the index\n",
        "sp500.index"
      ],
      "execution_count": 0,
      "outputs": [
        {
          "output_type": "execute_result",
          "data": {
            "text/plain": [
              "Index(['MMM', 'ABT', 'ABBV', 'ACN', 'ACE', 'ACT', 'ADBE', 'AES', 'AET', 'AFL',\n",
              "       ...\n",
              "       'XEL', 'XRX', 'XLNX', 'XL', 'XYL', 'YHOO', 'YUM', 'ZMH', 'ZION', 'ZTS'],\n",
              "      dtype='object', name='Symbol', length=500)"
            ]
          },
          "metadata": {
            "tags": []
          },
          "execution_count": 19
        }
      ]
    },
    {
      "cell_type": "code",
      "metadata": {
        "id": "Zubv-PVfs36y",
        "colab_type": "code",
        "outputId": "8cf1f0d5-6cb0-4a81-ae8d-70d68cfc5c44",
        "colab": {}
      },
      "source": [
        "# get the columns\n",
        "sp500.columns"
      ],
      "execution_count": 0,
      "outputs": [
        {
          "output_type": "execute_result",
          "data": {
            "text/plain": [
              "Index(['Sector', 'Price', 'Book Value'], dtype='object')"
            ]
          },
          "metadata": {
            "tags": []
          },
          "execution_count": 20
        }
      ]
    },
    {
      "cell_type": "markdown",
      "metadata": {
        "id": "q1ypcT6cs362",
        "colab_type": "text"
      },
      "source": [
        "# Selecting columns of a DataFrame"
      ]
    },
    {
      "cell_type": "code",
      "metadata": {
        "id": "u-88Cn_Hs363",
        "colab_type": "code",
        "outputId": "ef9f4ef9-fc45-4e62-fa12-affa621199b1",
        "colab": {}
      },
      "source": [
        "# retrieve the Sector column\n",
        "sp500['Sector'].head()"
      ],
      "execution_count": 0,
      "outputs": [
        {
          "output_type": "execute_result",
          "data": {
            "text/plain": [
              "Symbol\n",
              "MMM                Industrials\n",
              "ABT                Health Care\n",
              "ABBV               Health Care\n",
              "ACN     Information Technology\n",
              "ACE                 Financials\n",
              "Name: Sector, dtype: object"
            ]
          },
          "metadata": {
            "tags": []
          },
          "execution_count": 21
        }
      ]
    },
    {
      "cell_type": "code",
      "metadata": {
        "id": "jDDPcoJ8s366",
        "colab_type": "code",
        "outputId": "e7ca256d-34bc-4549-82bd-d6a741315683",
        "colab": {}
      },
      "source": [
        "type(sp500['Sector'])"
      ],
      "execution_count": 0,
      "outputs": [
        {
          "output_type": "execute_result",
          "data": {
            "text/plain": [
              "pandas.core.series.Series"
            ]
          },
          "metadata": {
            "tags": []
          },
          "execution_count": 22
        }
      ]
    },
    {
      "cell_type": "code",
      "metadata": {
        "id": "DFqIfVozs368",
        "colab_type": "code",
        "outputId": "c289c7ed-fdcd-4a87-f252-f7b552807a4d",
        "colab": {}
      },
      "source": [
        "# retrieve the Price and Book Value columns\n",
        "sp500[['Price', 'Book Value']].head()"
      ],
      "execution_count": 0,
      "outputs": [
        {
          "output_type": "execute_result",
          "data": {
            "text/plain": [
              "         Price  Book Value\n",
              "Symbol                    \n",
              "MMM     141.14      26.668\n",
              "ABT      39.60      15.573\n",
              "ABBV     53.95       2.954\n",
              "ACN      79.79       8.326\n",
              "ACE     102.91      86.897"
            ]
          },
          "metadata": {
            "tags": []
          },
          "execution_count": 23
        }
      ]
    },
    {
      "cell_type": "code",
      "metadata": {
        "id": "RKrwagF5s36-",
        "colab_type": "code",
        "outputId": "30f89ace-c3ce-4c59-c408-901d5b4bbe68",
        "colab": {}
      },
      "source": [
        "# show that this is a DataFrame\n",
        "type(sp500[['Price', 'Book Value']])"
      ],
      "execution_count": 0,
      "outputs": [
        {
          "output_type": "execute_result",
          "data": {
            "text/plain": [
              "pandas.core.frame.DataFrame"
            ]
          },
          "metadata": {
            "tags": []
          },
          "execution_count": 24
        }
      ]
    },
    {
      "cell_type": "code",
      "metadata": {
        "id": "h0tnEipGs37A",
        "colab_type": "code",
        "outputId": "1f5bfc7c-d75c-40cd-f5ea-0f5d99f2a3c4",
        "colab": {}
      },
      "source": [
        "# attribute access of column by name\n",
        "sp500.Price"
      ],
      "execution_count": 0,
      "outputs": [
        {
          "output_type": "execute_result",
          "data": {
            "text/plain": [
              "Symbol\n",
              "MMM     141.14\n",
              "ABT      39.60\n",
              "ABBV     53.95\n",
              "ACN      79.79\n",
              "ACE     102.91\n",
              "         ...  \n",
              "YHOO     35.02\n",
              "YUM      74.77\n",
              "ZMH     101.84\n",
              "ZION     28.43\n",
              "ZTS      30.53\n",
              "Name: Price, Length: 500, dtype: float64"
            ]
          },
          "metadata": {
            "tags": []
          },
          "execution_count": 25
        }
      ]
    },
    {
      "cell_type": "markdown",
      "metadata": {
        "id": "uAD-2fq1s37D",
        "colab_type": "text"
      },
      "source": [
        "# Selecting rows of a DataFrame"
      ]
    },
    {
      "cell_type": "code",
      "metadata": {
        "id": "_u2JGBhhs37E",
        "colab_type": "code",
        "outputId": "e7e3f6a8-9b9c-4434-8e3f-f3e46b2d4be4",
        "colab": {}
      },
      "source": [
        "# get row with label MMM\n",
        "# returned as a Series\n",
        "sp500.loc['MMM']"
      ],
      "execution_count": 0,
      "outputs": [
        {
          "output_type": "execute_result",
          "data": {
            "text/plain": [
              "Sector        Industrials\n",
              "Price              141.14\n",
              "Book Value         26.668\n",
              "Name: MMM, dtype: object"
            ]
          },
          "metadata": {
            "tags": []
          },
          "execution_count": 26
        }
      ]
    },
    {
      "cell_type": "code",
      "metadata": {
        "id": "f1EF20TMs37G",
        "colab_type": "code",
        "outputId": "f456eeb9-f10b-4fc0-bf75-b995ec80e7a5",
        "colab": {}
      },
      "source": [
        "# rows with label MMM and MSFT\n",
        "# this is a DataFrame result\n",
        "sp500.loc[['MMM', 'MSFT']]"
      ],
      "execution_count": 0,
      "outputs": [
        {
          "output_type": "execute_result",
          "data": {
            "text/plain": [
              "                        Sector   Price  Book Value\n",
              "Symbol                                            \n",
              "MMM                Industrials  141.14      26.668\n",
              "MSFT    Information Technology   40.12      10.584"
            ]
          },
          "metadata": {
            "tags": []
          },
          "execution_count": 27
        }
      ]
    },
    {
      "cell_type": "code",
      "metadata": {
        "id": "lhRNvbmus37I",
        "colab_type": "code",
        "outputId": "de1246c3-5cb2-40b9-d33b-040a6f5226d9",
        "colab": {}
      },
      "source": [
        "# get rows in location 0 and 2\n",
        "sp500.iloc[[0, 2]]"
      ],
      "execution_count": 0,
      "outputs": [
        {
          "output_type": "execute_result",
          "data": {
            "text/plain": [
              "             Sector   Price  Book Value\n",
              "Symbol                                 \n",
              "MMM     Industrials  141.14      26.668\n",
              "ABBV    Health Care   53.95       2.954"
            ]
          },
          "metadata": {
            "tags": []
          },
          "execution_count": 28
        }
      ]
    },
    {
      "cell_type": "code",
      "metadata": {
        "id": "UYM-U9EFs37L",
        "colab_type": "code",
        "outputId": "28eca581-fac2-4042-c5d5-e086bae13e4a",
        "colab": {}
      },
      "source": [
        "# get the location of MMM and A in the index\n",
        "i1 = sp500.index.get_loc('MMM')\n",
        "i2 = sp500.index.get_loc('A')\n",
        "(i1, i2)"
      ],
      "execution_count": 0,
      "outputs": [
        {
          "output_type": "execute_result",
          "data": {
            "text/plain": [
              "(0, 10)"
            ]
          },
          "metadata": {
            "tags": []
          },
          "execution_count": 29
        }
      ]
    },
    {
      "cell_type": "code",
      "metadata": {
        "id": "UKmft7G2s37N",
        "colab_type": "code",
        "outputId": "2daa69c1-7cee-4c6d-d6e7-7273d2db529e",
        "colab": {}
      },
      "source": [
        "# and get the rows\n",
        "sp500.iloc[[i1, i2]]"
      ],
      "execution_count": 0,
      "outputs": [
        {
          "output_type": "execute_result",
          "data": {
            "text/plain": [
              "             Sector   Price  Book Value\n",
              "Symbol                                 \n",
              "MMM     Industrials  141.14      26.668\n",
              "A       Health Care   56.18      16.928"
            ]
          },
          "metadata": {
            "tags": []
          },
          "execution_count": 30
        }
      ]
    },
    {
      "cell_type": "markdown",
      "metadata": {
        "id": "ZCxS2XJds37R",
        "colab_type": "text"
      },
      "source": [
        "# Scalar lookup by label or location using .at[] and .iat[] "
      ]
    },
    {
      "cell_type": "code",
      "metadata": {
        "id": "0_L_e3ass37S",
        "colab_type": "code",
        "outputId": "3b14f1e8-4805-4b32-996c-d8d9b052ddd2",
        "colab": {}
      },
      "source": [
        "# by label in both the index and column\n",
        "sp500.at['MMM', 'Price']"
      ],
      "execution_count": 0,
      "outputs": [
        {
          "output_type": "execute_result",
          "data": {
            "text/plain": [
              "141.13999999999999"
            ]
          },
          "metadata": {
            "tags": []
          },
          "execution_count": 31
        }
      ]
    },
    {
      "cell_type": "code",
      "metadata": {
        "id": "OgKIFwols37V",
        "colab_type": "code",
        "outputId": "43b5bbca-f323-429d-ed3e-9e21c436143e",
        "colab": {}
      },
      "source": [
        "# by location.  Row 0, column 1\n",
        "sp500.iat[0, 1]"
      ],
      "execution_count": 0,
      "outputs": [
        {
          "output_type": "execute_result",
          "data": {
            "text/plain": [
              "141.13999999999999"
            ]
          },
          "metadata": {
            "tags": []
          },
          "execution_count": 32
        }
      ]
    },
    {
      "cell_type": "markdown",
      "metadata": {
        "id": "fL9Cpk27s37Y",
        "colab_type": "text"
      },
      "source": [
        "# Slicing using the [] operator"
      ]
    },
    {
      "cell_type": "code",
      "metadata": {
        "id": "OndIVPows37Y",
        "colab_type": "code",
        "outputId": "331ba82d-6120-436b-c949-7e8651830163",
        "colab": {}
      },
      "source": [
        "# first five rows\n",
        "sp500[:5]"
      ],
      "execution_count": 0,
      "outputs": [
        {
          "output_type": "execute_result",
          "data": {
            "text/plain": [
              "                        Sector   Price  Book Value\n",
              "Symbol                                            \n",
              "MMM                Industrials  141.14      26.668\n",
              "ABT                Health Care   39.60      15.573\n",
              "ABBV               Health Care   53.95       2.954\n",
              "ACN     Information Technology   79.79       8.326\n",
              "ACE                 Financials  102.91      86.897"
            ]
          },
          "metadata": {
            "tags": []
          },
          "execution_count": 33
        }
      ]
    },
    {
      "cell_type": "code",
      "metadata": {
        "id": "w78OVqG8s37c",
        "colab_type": "code",
        "outputId": "550e2eac-eefb-48b7-b45b-3c109322a1ab",
        "colab": {}
      },
      "source": [
        "# ABT through ACN labels\n",
        "sp500['ABT':'ACN']"
      ],
      "execution_count": 0,
      "outputs": [
        {
          "output_type": "execute_result",
          "data": {
            "text/plain": [
              "                        Sector  Price  Book Value\n",
              "Symbol                                           \n",
              "ABT                Health Care  39.60      15.573\n",
              "ABBV               Health Care  53.95       2.954\n",
              "ACN     Information Technology  79.79       8.326"
            ]
          },
          "metadata": {
            "tags": []
          },
          "execution_count": 34
        }
      ]
    },
    {
      "cell_type": "markdown",
      "metadata": {
        "id": "1uvcEYFDs37g",
        "colab_type": "text"
      },
      "source": [
        "# Selecting rows using Boolean selection"
      ]
    },
    {
      "cell_type": "code",
      "metadata": {
        "id": "WGBpwJhIs37h",
        "colab_type": "code",
        "outputId": "00ccb056-2d3e-4638-be02-096814514c62",
        "colab": {}
      },
      "source": [
        "# what rows have a price < 100?\n",
        "sp500.Price < 100"
      ],
      "execution_count": 0,
      "outputs": [
        {
          "output_type": "execute_result",
          "data": {
            "text/plain": [
              "Symbol\n",
              "MMM     False\n",
              "ABT      True\n",
              "ABBV     True\n",
              "ACN      True\n",
              "ACE     False\n",
              "        ...  \n",
              "YHOO     True\n",
              "YUM      True\n",
              "ZMH     False\n",
              "ZION     True\n",
              "ZTS      True\n",
              "Name: Price, Length: 500, dtype: bool"
            ]
          },
          "metadata": {
            "tags": []
          },
          "execution_count": 35
        }
      ]
    },
    {
      "cell_type": "code",
      "metadata": {
        "id": "W8FFwOiYs37j",
        "colab_type": "code",
        "outputId": "f36fa68d-0d86-46b5-a9c4-8b784c7bbd84",
        "colab": {}
      },
      "source": [
        "# now get the rows with Price < 100\n",
        "sp500[sp500.Price < 100]"
      ],
      "execution_count": 0,
      "outputs": [
        {
          "output_type": "execute_result",
          "data": {
            "text/plain": [
              "                        Sector  Price  Book Value\n",
              "Symbol                                           \n",
              "ABT                Health Care  39.60      15.573\n",
              "ABBV               Health Care  53.95       2.954\n",
              "ACN     Information Technology  79.79       8.326\n",
              "ADBE    Information Technology  64.30      13.262\n",
              "AES                  Utilities  13.61       5.781\n",
              "...                        ...    ...         ...\n",
              "XYL                Industrials  38.42      12.127\n",
              "YHOO    Information Technology  35.02      12.768\n",
              "YUM     Consumer Discretionary  74.77       5.147\n",
              "ZION                Financials  28.43      30.191\n",
              "ZTS                Health Care  30.53       2.150\n",
              "\n",
              "[407 rows x 3 columns]"
            ]
          },
          "metadata": {
            "tags": []
          },
          "execution_count": 36
        }
      ]
    },
    {
      "cell_type": "code",
      "metadata": {
        "id": "Di_KIRxZs37l",
        "colab_type": "code",
        "outputId": "5755c7f1-ff06-4547-da99-b1ba02fcf8d5",
        "colab": {}
      },
      "source": [
        "# get only the Price where Price is < 10 and > 0\n",
        "r = sp500[(sp500.Price < 10) & \n",
        "          (sp500.Price > 6)] ['Price']\n",
        "r"
      ],
      "execution_count": 0,
      "outputs": [
        {
          "output_type": "execute_result",
          "data": {
            "text/plain": [
              "Symbol\n",
              "HCBK    9.80\n",
              "HBAN    9.10\n",
              "SLM     8.82\n",
              "WIN     9.38\n",
              "Name: Price, dtype: float64"
            ]
          },
          "metadata": {
            "tags": []
          },
          "execution_count": 37
        }
      ]
    },
    {
      "cell_type": "code",
      "metadata": {
        "id": "JcAt4TcKs37n",
        "colab_type": "code",
        "outputId": "1393f8e1-7f2c-46fc-c287-2f55c96c37c6",
        "colab": {}
      },
      "source": [
        "# price > 100 and in the Health Care Sector\n",
        "r = sp500[(sp500.Sector == 'Health Care') & \n",
        "          (sp500.Price > 100.00)] [['Price', 'Sector']]\n",
        "r"
      ],
      "execution_count": 0,
      "outputs": [
        {
          "output_type": "execute_result",
          "data": {
            "text/plain": [
              "         Price       Sector\n",
              "Symbol                     \n",
              "ACT     213.77  Health Care\n",
              "ALXN    162.30  Health Care\n",
              "AGN     166.92  Health Care\n",
              "AMGN    114.33  Health Care\n",
              "BCR     146.62  Health Care\n",
              "...        ...          ...\n",
              "REGN    297.77  Health Care\n",
              "TMO     115.74  Health Care\n",
              "WAT     100.54  Health Care\n",
              "WLP     108.82  Health Care\n",
              "ZMH     101.84  Health Care\n",
              "\n",
              "[19 rows x 2 columns]"
            ]
          },
          "metadata": {
            "tags": []
          },
          "execution_count": 38
        }
      ]
    },
    {
      "cell_type": "markdown",
      "metadata": {
        "id": "NjWMBQiPs37r",
        "colab_type": "text"
      },
      "source": [
        "# Selecting across both rows and columns"
      ]
    },
    {
      "cell_type": "code",
      "metadata": {
        "id": "NKl5flC1s37r",
        "colab_type": "code",
        "outputId": "64e3c999-4422-474e-dae1-629dca597f6b",
        "colab": {}
      },
      "source": [
        "# select the price and sector columns for ABT and ZTS\n",
        "sp500.loc[['ABT', 'ZTS']][['Sector', 'Price']]"
      ],
      "execution_count": 0,
      "outputs": [
        {
          "output_type": "execute_result",
          "data": {
            "text/plain": [
              "             Sector  Price\n",
              "Symbol                    \n",
              "ABT     Health Care  39.60\n",
              "ZTS     Health Care  30.53"
            ]
          },
          "metadata": {
            "tags": []
          },
          "execution_count": 39
        }
      ]
    },
    {
      "cell_type": "code",
      "metadata": {
        "collapsed": true,
        "id": "j8BaO7mMs37u",
        "colab_type": "code",
        "colab": {}
      },
      "source": [
        ""
      ],
      "execution_count": 0,
      "outputs": []
    }
  ]
}