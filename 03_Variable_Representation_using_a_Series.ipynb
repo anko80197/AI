{
  "nbformat": 4,
  "nbformat_minor": 0,
  "metadata": {
    "anaconda-cloud": {},
    "kernelspec": {
      "display_name": "Python 3",
      "language": "python",
      "name": "python3"
    },
    "language_info": {
      "codemirror_mode": {
        "name": "ipython",
        "version": 3
      },
      "file_extension": ".py",
      "mimetype": "text/x-python",
      "name": "python",
      "nbconvert_exporter": "python",
      "pygments_lexer": "ipython3",
      "version": "3.6.1"
    },
    "colab": {
      "name": "03_Variable Representation using a Series.ipynb",
      "provenance": [],
      "toc_visible": true,
      "include_colab_link": true
    }
  },
  "cells": [
    {
      "cell_type": "markdown",
      "metadata": {
        "id": "view-in-github",
        "colab_type": "text"
      },
      "source": [
        "<a href=\"https://colab.research.google.com/github/anko80197/AI/blob/master/03_Variable_Representation_using_a_Series.ipynb\" target=\"_parent\"><img src=\"https://colab.research.google.com/assets/colab-badge.svg\" alt=\"Open In Colab\"/></a>"
      ]
    },
    {
      "cell_type": "markdown",
      "metadata": {
        "id": "LvVDKzJmilIZ",
        "colab_type": "text"
      },
      "source": [
        "# Configuring pandas"
      ]
    },
    {
      "cell_type": "code",
      "metadata": {
        "id": "ZPv4U8AOilIc",
        "colab_type": "code",
        "colab": {}
      },
      "source": [
        "# import numpy and pandas\n",
        "import numpy as np\n",
        "import pandas as pd\n",
        "\n",
        "# used for dates\n",
        "import datetime\n",
        "from datetime import datetime, date\n",
        "\n",
        "# Set some pandas options controlling output format\n",
        "pd.set_option('display.notebook_repr_html', False)\n",
        "pd.set_option('display.max_columns', 8)\n",
        "pd.set_option('display.max_rows', 10)\n",
        "pd.set_option('display.width', 80)\n",
        "\n",
        "# bring in matplotlib for graphics\n",
        "import matplotlib.pyplot as plt\n",
        "%matplotlib inline"
      ],
      "execution_count": 0,
      "outputs": []
    },
    {
      "cell_type": "markdown",
      "metadata": {
        "id": "Y-Uj-7HKilIg",
        "colab_type": "text"
      },
      "source": [
        "# Creating a Series using Python lists and dictionaries"
      ]
    },
    {
      "cell_type": "code",
      "metadata": {
        "id": "gViAKJqvilIi",
        "colab_type": "code",
        "outputId": "6177fefa-6d0b-4d97-bfbb-a051b184a4bd",
        "colab": {}
      },
      "source": [
        "# create a series of multiple values from a list\n",
        "s = pd.Series([10, 11, 12, 13, 14])\n",
        "s"
      ],
      "execution_count": 0,
      "outputs": [
        {
          "output_type": "execute_result",
          "data": {
            "text/plain": [
              "0    10\n",
              "1    11\n",
              "2    12\n",
              "3    13\n",
              "4    14\n",
              "dtype: int64"
            ]
          },
          "metadata": {
            "tags": []
          },
          "execution_count": 2
        }
      ]
    },
    {
      "cell_type": "code",
      "metadata": {
        "id": "FlCkYeSVilIm",
        "colab_type": "code",
        "outputId": "398c6460-9366-4a88-fa04-def0776623aa",
        "colab": {}
      },
      "source": [
        "# value stored at index label 3\n",
        "s[3]"
      ],
      "execution_count": 0,
      "outputs": [
        {
          "output_type": "execute_result",
          "data": {
            "text/plain": [
              "13"
            ]
          },
          "metadata": {
            "tags": []
          },
          "execution_count": 3
        }
      ]
    },
    {
      "cell_type": "code",
      "metadata": {
        "id": "n3gR5N5DilIq",
        "colab_type": "code",
        "outputId": "0452ed1c-5ee4-4340-c6ec-24b3b8e8e83f",
        "colab": {}
      },
      "source": [
        "# create a Series of alphas\n",
        "pd.Series(['Mike', 'Marcia', 'Mikael', 'Bleu'])"
      ],
      "execution_count": 0,
      "outputs": [
        {
          "output_type": "execute_result",
          "data": {
            "text/plain": [
              "0      Mike\n",
              "1    Marcia\n",
              "2    Mikael\n",
              "3      Bleu\n",
              "dtype: object"
            ]
          },
          "metadata": {
            "tags": []
          },
          "execution_count": 4
        }
      ]
    },
    {
      "cell_type": "code",
      "metadata": {
        "id": "qgAanadFilIv",
        "colab_type": "code",
        "outputId": "ebcd677d-5bea-49c7-d8ce-922366a48758",
        "colab": {}
      },
      "source": [
        "# a sequence of 5 values, all 2\n",
        "pd.Series([2]*5)"
      ],
      "execution_count": 0,
      "outputs": [
        {
          "output_type": "execute_result",
          "data": {
            "text/plain": [
              "0    2\n",
              "1    2\n",
              "2    2\n",
              "3    2\n",
              "4    2\n",
              "dtype: int64"
            ]
          },
          "metadata": {
            "tags": []
          },
          "execution_count": 5
        }
      ]
    },
    {
      "cell_type": "code",
      "metadata": {
        "id": "KvDUGuczilIy",
        "colab_type": "code",
        "outputId": "c041e812-aaa8-4c21-f5a6-d67bfb85fd88",
        "colab": {}
      },
      "source": [
        "# use each character as a value\n",
        "pd.Series(list('abcde'))"
      ],
      "execution_count": 0,
      "outputs": [
        {
          "output_type": "execute_result",
          "data": {
            "text/plain": [
              "0    a\n",
              "1    b\n",
              "2    c\n",
              "3    d\n",
              "4    e\n",
              "dtype: object"
            ]
          },
          "metadata": {
            "tags": []
          },
          "execution_count": 6
        }
      ]
    },
    {
      "cell_type": "code",
      "metadata": {
        "id": "_UkZcDzmilI3",
        "colab_type": "code",
        "outputId": "482b7cce-a29a-459d-e17d-4a39289d1a94",
        "colab": {}
      },
      "source": [
        "# create Series from dict\n",
        "pd.Series({'Mike': 'Dad', \n",
        "           'Marcia': 'Mom', \n",
        "           'Mikael': 'Son', \n",
        "           'Bleu': 'Best doggie ever' })"
      ],
      "execution_count": 0,
      "outputs": [
        {
          "output_type": "execute_result",
          "data": {
            "text/plain": [
              "Bleu      Best doggie ever\n",
              "Marcia                 Mom\n",
              "Mikael                 Son\n",
              "Mike                   Dad\n",
              "dtype: object"
            ]
          },
          "metadata": {
            "tags": []
          },
          "execution_count": 7
        }
      ]
    },
    {
      "cell_type": "markdown",
      "metadata": {
        "id": "N-b0qwP8ilI8",
        "colab_type": "text"
      },
      "source": [
        "# Creation using NumPy functions"
      ]
    },
    {
      "cell_type": "code",
      "metadata": {
        "id": "z0J4owqwilI9",
        "colab_type": "code",
        "outputId": "aad2ca4f-442d-424d-b9c9-1276713fa710",
        "colab": {}
      },
      "source": [
        "# 4 through 8\n",
        "pd.Series(np.arange(4, 9))"
      ],
      "execution_count": 0,
      "outputs": [
        {
          "output_type": "execute_result",
          "data": {
            "text/plain": [
              "0    4\n",
              "1    5\n",
              "2    6\n",
              "3    7\n",
              "4    8\n",
              "dtype: int64"
            ]
          },
          "metadata": {
            "tags": []
          },
          "execution_count": 8
        }
      ]
    },
    {
      "cell_type": "code",
      "metadata": {
        "id": "kIn9qq3yilJA",
        "colab_type": "code",
        "outputId": "20f74f7c-ed85-45cc-c711-20e8b24768fa",
        "colab": {}
      },
      "source": [
        "# 0 through 9\n",
        "pd.Series(np.linspace(0, 9, 5))"
      ],
      "execution_count": 0,
      "outputs": [
        {
          "output_type": "execute_result",
          "data": {
            "text/plain": [
              "0    0.00\n",
              "1    2.25\n",
              "2    4.50\n",
              "3    6.75\n",
              "4    9.00\n",
              "dtype: float64"
            ]
          },
          "metadata": {
            "tags": []
          },
          "execution_count": 9
        }
      ]
    },
    {
      "cell_type": "code",
      "metadata": {
        "id": "sSd9kOuuilJD",
        "colab_type": "code",
        "outputId": "0ebc183f-c203-4f6d-d3e7-166071d336a8",
        "colab": {}
      },
      "source": [
        "# random numbers\n",
        "np.random.seed(12345) # always generate the same values\n",
        "# 5 normally random numbers\n",
        "pd.Series(np.random.normal(size=5))"
      ],
      "execution_count": 0,
      "outputs": [
        {
          "output_type": "execute_result",
          "data": {
            "text/plain": [
              "0   -0.204708\n",
              "1    0.478943\n",
              "2   -0.519439\n",
              "3   -0.555730\n",
              "4    1.965781\n",
              "dtype: float64"
            ]
          },
          "metadata": {
            "tags": []
          },
          "execution_count": 10
        }
      ]
    },
    {
      "cell_type": "markdown",
      "metadata": {
        "id": "NZHPG8B6ilJG",
        "colab_type": "text"
      },
      "source": [
        "# Creation using a scalar value"
      ]
    },
    {
      "cell_type": "code",
      "metadata": {
        "id": "QGiHCiwLilJH",
        "colab_type": "code",
        "outputId": "0d4f5b30-2e52-425d-a3a2-f115fcc224b4",
        "colab": {}
      },
      "source": [
        "# create a one item Series\n",
        "s = pd.Series(2)\n",
        "s"
      ],
      "execution_count": 0,
      "outputs": [
        {
          "output_type": "execute_result",
          "data": {
            "text/plain": [
              "0    2\n",
              "dtype: int64"
            ]
          },
          "metadata": {
            "tags": []
          },
          "execution_count": 11
        }
      ]
    },
    {
      "cell_type": "code",
      "metadata": {
        "id": "Fj31uY2GilJJ",
        "colab_type": "code",
        "outputId": "f326ee71-1eb4-4183-fad1-a804e8df72a3",
        "colab": {}
      },
      "source": [
        "# create the Series\n",
        "s = pd.Series(np.arange(0, 5))\n",
        "# multiple all values by 2\n",
        "s * 2"
      ],
      "execution_count": 0,
      "outputs": [
        {
          "output_type": "execute_result",
          "data": {
            "text/plain": [
              "0    0\n",
              "1    2\n",
              "2    4\n",
              "3    6\n",
              "4    8\n",
              "dtype: int64"
            ]
          },
          "metadata": {
            "tags": []
          },
          "execution_count": 12
        }
      ]
    },
    {
      "cell_type": "markdown",
      "metadata": {
        "id": "pl_bog-7ilJM",
        "colab_type": "text"
      },
      "source": [
        "# The .index and .values properties"
      ]
    },
    {
      "cell_type": "code",
      "metadata": {
        "id": "23PAK-CWilJM",
        "colab_type": "code",
        "outputId": "53fba228-d2d1-4bdc-964f-0601868f6e61",
        "colab": {}
      },
      "source": [
        "# get the values in the Series\n",
        "s = pd.Series([1, 2, 3])\n",
        "s.values"
      ],
      "execution_count": 0,
      "outputs": [
        {
          "output_type": "execute_result",
          "data": {
            "text/plain": [
              "array([1, 2, 3])"
            ]
          },
          "metadata": {
            "tags": []
          },
          "execution_count": 13
        }
      ]
    },
    {
      "cell_type": "code",
      "metadata": {
        "id": "VAGz_tSLilJP",
        "colab_type": "code",
        "outputId": "d8a4f30e-1890-4940-dfbf-c33980c7c8cc",
        "colab": {}
      },
      "source": [
        "# show that this is a numpy array\n",
        "type(s.values)"
      ],
      "execution_count": 0,
      "outputs": [
        {
          "output_type": "execute_result",
          "data": {
            "text/plain": [
              "numpy.ndarray"
            ]
          },
          "metadata": {
            "tags": []
          },
          "execution_count": 14
        }
      ]
    },
    {
      "cell_type": "code",
      "metadata": {
        "id": "wOmUvhX5ilJS",
        "colab_type": "code",
        "outputId": "57a9b18a-aa18-4b88-a158-8d3bf2f8d604",
        "colab": {}
      },
      "source": [
        "# get the index of the Series\n",
        "s.index"
      ],
      "execution_count": 0,
      "outputs": [
        {
          "output_type": "execute_result",
          "data": {
            "text/plain": [
              "RangeIndex(start=0, stop=3, step=1)"
            ]
          },
          "metadata": {
            "tags": []
          },
          "execution_count": 15
        }
      ]
    },
    {
      "cell_type": "markdown",
      "metadata": {
        "id": "A9G7gUsSilJV",
        "colab_type": "text"
      },
      "source": [
        "# The size and shape of a Series"
      ]
    },
    {
      "cell_type": "code",
      "metadata": {
        "id": "dRqK_4JgilJW",
        "colab_type": "code",
        "outputId": "273926a0-0f34-44e1-850b-cce209e29731",
        "colab": {}
      },
      "source": [
        "# example series\n",
        "s = pd.Series([0, 1, 2, 3])\n",
        "len(s)"
      ],
      "execution_count": 0,
      "outputs": [
        {
          "output_type": "execute_result",
          "data": {
            "text/plain": [
              "4"
            ]
          },
          "metadata": {
            "tags": []
          },
          "execution_count": 16
        }
      ]
    },
    {
      "cell_type": "code",
      "metadata": {
        "id": "ttWM0c3dilJY",
        "colab_type": "code",
        "outputId": "b08eba18-27bc-4e8b-a564-bdf49bd9ca77",
        "colab": {}
      },
      "source": [
        "# .size is also the # of items in the Series\n",
        "s.size"
      ],
      "execution_count": 0,
      "outputs": [
        {
          "output_type": "execute_result",
          "data": {
            "text/plain": [
              "4"
            ]
          },
          "metadata": {
            "tags": []
          },
          "execution_count": 17
        }
      ]
    },
    {
      "cell_type": "code",
      "metadata": {
        "id": "CvHoCj4vilJb",
        "colab_type": "code",
        "outputId": "3fc72957-a506-46b6-8184-bf51da086f97",
        "colab": {}
      },
      "source": [
        "# .shape is a tuple with one value\n",
        "s.shape"
      ],
      "execution_count": 0,
      "outputs": [
        {
          "output_type": "execute_result",
          "data": {
            "text/plain": [
              "(4,)"
            ]
          },
          "metadata": {
            "tags": []
          },
          "execution_count": 18
        }
      ]
    },
    {
      "cell_type": "markdown",
      "metadata": {
        "id": "Y6SwYeqqilJd",
        "colab_type": "text"
      },
      "source": [
        "# Specifying an index at creation"
      ]
    },
    {
      "cell_type": "code",
      "metadata": {
        "id": "WRPQM1idilJf",
        "colab_type": "code",
        "outputId": "5bb43334-6698-4144-a5ee-90d4cb33e571",
        "colab": {}
      },
      "source": [
        "# explicitly create an index\n",
        "labels = ['Mike', 'Marcia', 'Mikael', 'Bleu']\n",
        "role = ['Dad', 'Mom', 'Son', 'Dog']\n",
        "s = pd.Series(labels, index=role)\n",
        "s"
      ],
      "execution_count": 0,
      "outputs": [
        {
          "output_type": "execute_result",
          "data": {
            "text/plain": [
              "Dad      Mike\n",
              "Mom    Marcia\n",
              "Son    Mikael\n",
              "Dog      Bleu\n",
              "dtype: object"
            ]
          },
          "metadata": {
            "tags": []
          },
          "execution_count": 19
        }
      ]
    },
    {
      "cell_type": "code",
      "metadata": {
        "id": "O4wOOB4hilJi",
        "colab_type": "code",
        "outputId": "d747876e-bb02-4da2-e13f-daf12299a67b",
        "colab": {}
      },
      "source": [
        "# examine the index\n",
        "s.index"
      ],
      "execution_count": 0,
      "outputs": [
        {
          "output_type": "execute_result",
          "data": {
            "text/plain": [
              "Index(['Dad', 'Mom', 'Son', 'Dog'], dtype='object')"
            ]
          },
          "metadata": {
            "tags": []
          },
          "execution_count": 20
        }
      ]
    },
    {
      "cell_type": "code",
      "metadata": {
        "id": "sLhaJk0oilJl",
        "colab_type": "code",
        "outputId": "fa1a0c2d-1f5d-456e-f3d8-300adf4a81ca",
        "colab": {}
      },
      "source": [
        "# who is the Dad?\n",
        "s['Dad']"
      ],
      "execution_count": 0,
      "outputs": [
        {
          "output_type": "execute_result",
          "data": {
            "text/plain": [
              "'Mike'"
            ]
          },
          "metadata": {
            "tags": []
          },
          "execution_count": 21
        }
      ]
    },
    {
      "cell_type": "markdown",
      "metadata": {
        "id": "M7uDP7_BilJo",
        "colab_type": "text"
      },
      "source": [
        "# Heads, tails and takes"
      ]
    },
    {
      "cell_type": "code",
      "metadata": {
        "id": "C61rB2o2ilJo",
        "colab_type": "code",
        "colab": {}
      },
      "source": [
        "# a ten item Series\n",
        "s = pd.Series(np.arange(1, 10), \n",
        "              index=list('abcdefghi'))"
      ],
      "execution_count": 0,
      "outputs": []
    },
    {
      "cell_type": "code",
      "metadata": {
        "id": "4yzzcXF8ilJr",
        "colab_type": "code",
        "outputId": "7ea59b56-dd4e-4179-d7b0-621d3cb398e1",
        "colab": {}
      },
      "source": [
        "# show the first five\n",
        "s.head()"
      ],
      "execution_count": 0,
      "outputs": [
        {
          "output_type": "execute_result",
          "data": {
            "text/plain": [
              "a    1\n",
              "b    2\n",
              "c    3\n",
              "d    4\n",
              "e    5\n",
              "dtype: int64"
            ]
          },
          "metadata": {
            "tags": []
          },
          "execution_count": 23
        }
      ]
    },
    {
      "cell_type": "code",
      "metadata": {
        "id": "em7IMu1XilJu",
        "colab_type": "code",
        "outputId": "242047c1-5b2e-4da2-9932-2884cfc14ae9",
        "colab": {}
      },
      "source": [
        "# the first three\n",
        "s.head(n = 3) # s.head(3) is equivalent"
      ],
      "execution_count": 0,
      "outputs": [
        {
          "output_type": "execute_result",
          "data": {
            "text/plain": [
              "a    1\n",
              "b    2\n",
              "c    3\n",
              "dtype: int64"
            ]
          },
          "metadata": {
            "tags": []
          },
          "execution_count": 24
        }
      ]
    },
    {
      "cell_type": "code",
      "metadata": {
        "id": "sJsAwPNNilJz",
        "colab_type": "code",
        "outputId": "7f91188f-012b-4bb1-e8ce-bffb5d245f98",
        "colab": {}
      },
      "source": [
        "# the last five\n",
        "s.tail()"
      ],
      "execution_count": 0,
      "outputs": [
        {
          "output_type": "execute_result",
          "data": {
            "text/plain": [
              "e    5\n",
              "f    6\n",
              "g    7\n",
              "h    8\n",
              "i    9\n",
              "dtype: int64"
            ]
          },
          "metadata": {
            "tags": []
          },
          "execution_count": 25
        }
      ]
    },
    {
      "cell_type": "code",
      "metadata": {
        "id": "3aGquLO9ilJ1",
        "colab_type": "code",
        "outputId": "c10cefac-b566-4f77-adf7-92aad2d7aea5",
        "colab": {}
      },
      "source": [
        "# the last 3\n",
        "s.tail(n = 3) # equivalent to s.tail(3)"
      ],
      "execution_count": 0,
      "outputs": [
        {
          "output_type": "execute_result",
          "data": {
            "text/plain": [
              "g    7\n",
              "h    8\n",
              "i    9\n",
              "dtype: int64"
            ]
          },
          "metadata": {
            "tags": []
          },
          "execution_count": 26
        }
      ]
    },
    {
      "cell_type": "code",
      "metadata": {
        "id": "zQUUPuGKilJ4",
        "colab_type": "code",
        "outputId": "578b4b17-886d-4cb7-8344-c99530c1aa2b",
        "colab": {}
      },
      "source": [
        "# only take specific items by position\n",
        "s.take([1, 5, 8])"
      ],
      "execution_count": 0,
      "outputs": [
        {
          "output_type": "execute_result",
          "data": {
            "text/plain": [
              "b    2\n",
              "f    6\n",
              "i    9\n",
              "dtype: int64"
            ]
          },
          "metadata": {
            "tags": []
          },
          "execution_count": 27
        }
      ]
    },
    {
      "cell_type": "markdown",
      "metadata": {
        "id": "v_OvdeSYilJ8",
        "colab_type": "text"
      },
      "source": [
        "# Lookup by label using the [] and .ix[] operators"
      ]
    },
    {
      "cell_type": "code",
      "metadata": {
        "id": "KtoHqB-EilJ9",
        "colab_type": "code",
        "outputId": "df54ed13-1225-49e2-be8b-8c6dc583fd57",
        "colab": {}
      },
      "source": [
        "# we will use this series to examine lookups\n",
        "s1 = pd.Series(np.arange(10, 15), index=list('abcde'))\n",
        "s1"
      ],
      "execution_count": 0,
      "outputs": [
        {
          "output_type": "execute_result",
          "data": {
            "text/plain": [
              "a    10\n",
              "b    11\n",
              "c    12\n",
              "d    13\n",
              "e    14\n",
              "dtype: int64"
            ]
          },
          "metadata": {
            "tags": []
          },
          "execution_count": 28
        }
      ]
    },
    {
      "cell_type": "code",
      "metadata": {
        "id": "-e2mDvRdilKA",
        "colab_type": "code",
        "outputId": "c001cd2a-04a7-4a32-fee0-b243a4512883",
        "colab": {}
      },
      "source": [
        "# get the value with label 'a'\n",
        "s1['a']"
      ],
      "execution_count": 0,
      "outputs": [
        {
          "output_type": "execute_result",
          "data": {
            "text/plain": [
              "10"
            ]
          },
          "metadata": {
            "tags": []
          },
          "execution_count": 29
        }
      ]
    },
    {
      "cell_type": "code",
      "metadata": {
        "id": "RTK24nZOilKD",
        "colab_type": "code",
        "outputId": "2f27edbb-824e-450d-827b-ef245bf5fae9",
        "colab": {}
      },
      "source": [
        "# get multiple items\n",
        "s1[['d', 'b']]"
      ],
      "execution_count": 0,
      "outputs": [
        {
          "output_type": "execute_result",
          "data": {
            "text/plain": [
              "d    13\n",
              "b    11\n",
              "dtype: int64"
            ]
          },
          "metadata": {
            "tags": []
          },
          "execution_count": 30
        }
      ]
    },
    {
      "cell_type": "code",
      "metadata": {
        "id": "gYdK7mjxilKG",
        "colab_type": "code",
        "outputId": "fabed04e-3851-40ae-a6ad-c53764dcfc8f",
        "colab": {}
      },
      "source": [
        "# gets values based upon position\n",
        "s1[[3, 1]]"
      ],
      "execution_count": 0,
      "outputs": [
        {
          "output_type": "execute_result",
          "data": {
            "text/plain": [
              "d    13\n",
              "b    11\n",
              "dtype: int64"
            ]
          },
          "metadata": {
            "tags": []
          },
          "execution_count": 31
        }
      ]
    },
    {
      "cell_type": "code",
      "metadata": {
        "id": "96lRDFYwilKI",
        "colab_type": "code",
        "outputId": "a9187e03-9dc3-4f65-faeb-99d9e07c055a",
        "colab": {}
      },
      "source": [
        "# to demo lookup by matching labels as integer values\n",
        "s2 = pd.Series([1, 2, 3, 4], index=[10, 11, 12, 13])\n",
        "s2"
      ],
      "execution_count": 0,
      "outputs": [
        {
          "output_type": "execute_result",
          "data": {
            "text/plain": [
              "10    1\n",
              "11    2\n",
              "12    3\n",
              "13    4\n",
              "dtype: int64"
            ]
          },
          "metadata": {
            "tags": []
          },
          "execution_count": 32
        }
      ]
    },
    {
      "cell_type": "code",
      "metadata": {
        "id": "MnVyJ3ZhilKK",
        "colab_type": "code",
        "outputId": "b62f3495-afab-4928-e098-02d625e8a3e3",
        "colab": {}
      },
      "source": [
        "# this is by label not position\n",
        "s2[[13, 10]]"
      ],
      "execution_count": 0,
      "outputs": [
        {
          "output_type": "execute_result",
          "data": {
            "text/plain": [
              "13    4\n",
              "10    1\n",
              "dtype: int64"
            ]
          },
          "metadata": {
            "tags": []
          },
          "execution_count": 33
        }
      ]
    },
    {
      "cell_type": "markdown",
      "metadata": {
        "id": "CZJqZMs2ilKN",
        "colab_type": "text"
      },
      "source": [
        "# Explicit position lookup with .iloc[]"
      ]
    },
    {
      "cell_type": "code",
      "metadata": {
        "id": "MvfD80xbilKO",
        "colab_type": "code",
        "outputId": "7a2eb2bb-e262-44d1-83cc-ad0e7e5ca883",
        "colab": {}
      },
      "source": [
        "# explicitly  by position\n",
        "s1.iloc[[0, 2]]"
      ],
      "execution_count": 0,
      "outputs": [
        {
          "output_type": "execute_result",
          "data": {
            "text/plain": [
              "a    10\n",
              "c    12\n",
              "dtype: int64"
            ]
          },
          "metadata": {
            "tags": []
          },
          "execution_count": 34
        }
      ]
    },
    {
      "cell_type": "code",
      "metadata": {
        "id": "v81JKKsCilKQ",
        "colab_type": "code",
        "outputId": "35f37877-2f69-4bd5-d01c-d2ce86fa2d1a",
        "colab": {}
      },
      "source": [
        "# explicitly  by position\n",
        "s2.iloc[[3, 2]]"
      ],
      "execution_count": 0,
      "outputs": [
        {
          "output_type": "execute_result",
          "data": {
            "text/plain": [
              "13    4\n",
              "12    3\n",
              "dtype: int64"
            ]
          },
          "metadata": {
            "tags": []
          },
          "execution_count": 35
        }
      ]
    },
    {
      "cell_type": "markdown",
      "metadata": {
        "id": "vE6VhRSuilKS",
        "colab_type": "text"
      },
      "source": [
        "# Explicit label lookup with .loc[]"
      ]
    },
    {
      "cell_type": "code",
      "metadata": {
        "id": "6948vVk5ilKT",
        "colab_type": "code",
        "outputId": "33905de5-7172-4c68-c8cc-859f9c20eae1",
        "colab": {}
      },
      "source": [
        "# explicit via labels\n",
        "s1.loc[['a', 'd']]"
      ],
      "execution_count": 0,
      "outputs": [
        {
          "output_type": "execute_result",
          "data": {
            "text/plain": [
              "a    10\n",
              "d    13\n",
              "dtype: int64"
            ]
          },
          "metadata": {
            "tags": []
          },
          "execution_count": 36
        }
      ]
    },
    {
      "cell_type": "code",
      "metadata": {
        "id": "oWMdBee3ilKV",
        "colab_type": "code",
        "outputId": "4632e8da-6d19-4d19-99eb-107429bd5f71",
        "colab": {}
      },
      "source": [
        "# get items at position 11 an d12\n",
        "s2.loc[[11, 12]]"
      ],
      "execution_count": 0,
      "outputs": [
        {
          "output_type": "execute_result",
          "data": {
            "text/plain": [
              "11    2\n",
              "12    3\n",
              "dtype: int64"
            ]
          },
          "metadata": {
            "tags": []
          },
          "execution_count": 37
        }
      ]
    },
    {
      "cell_type": "code",
      "metadata": {
        "id": "ZieD8sdNilKY",
        "colab_type": "code",
        "outputId": "286d68f8-ae4c-4386-e1bd-184f7dbae963",
        "colab": {}
      },
      "source": [
        "# -1 and 15 will be NaN\n",
        "s1.loc[['a', 'f']]"
      ],
      "execution_count": 0,
      "outputs": [
        {
          "output_type": "execute_result",
          "data": {
            "text/plain": [
              "a    10.0\n",
              "f     NaN\n",
              "dtype: float64"
            ]
          },
          "metadata": {
            "tags": []
          },
          "execution_count": 38
        }
      ]
    },
    {
      "cell_type": "markdown",
      "metadata": {
        "id": "dL-qV8HPilKb",
        "colab_type": "text"
      },
      "source": [
        "# Slicing a Series into subsets"
      ]
    },
    {
      "cell_type": "code",
      "metadata": {
        "id": "8_entpxuilKd",
        "colab_type": "code",
        "outputId": "f5e95fe0-6aab-4d0d-b5b4-25d8ca011c94",
        "colab": {}
      },
      "source": [
        "# a Series to use for slicing\n",
        "# using index labels not starting at 0 to demonstrate \n",
        "# position based slicing\n",
        "s = pd.Series(np.arange(100, 110), index=np.arange(10, 20))\n",
        "s"
      ],
      "execution_count": 0,
      "outputs": [
        {
          "output_type": "execute_result",
          "data": {
            "text/plain": [
              "10    100\n",
              "11    101\n",
              "12    102\n",
              "13    103\n",
              "14    104\n",
              "15    105\n",
              "16    106\n",
              "17    107\n",
              "18    108\n",
              "19    109\n",
              "dtype: int64"
            ]
          },
          "metadata": {
            "tags": []
          },
          "execution_count": 39
        }
      ]
    },
    {
      "cell_type": "code",
      "metadata": {
        "id": "OmQ8r___ilKf",
        "colab_type": "code",
        "outputId": "8767dfc5-8f22-4c57-a68b-fcecfcc0cf47",
        "colab": {}
      },
      "source": [
        "# slice showing items at position 1 thorugh 5\n",
        "s[1:6]"
      ],
      "execution_count": 0,
      "outputs": [
        {
          "output_type": "execute_result",
          "data": {
            "text/plain": [
              "11    101\n",
              "12    102\n",
              "13    103\n",
              "14    104\n",
              "15    105\n",
              "dtype: int64"
            ]
          },
          "metadata": {
            "tags": []
          },
          "execution_count": 40
        }
      ]
    },
    {
      "cell_type": "code",
      "metadata": {
        "id": "soek1ciJilKh",
        "colab_type": "code",
        "outputId": "484f7b58-85fc-4057-f09c-a86495a789a2",
        "colab": {}
      },
      "source": [
        "# lookup via list of positions\n",
        "s.iloc[[1, 2, 3, 4, 5]]"
      ],
      "execution_count": 0,
      "outputs": [
        {
          "output_type": "execute_result",
          "data": {
            "text/plain": [
              "11    101\n",
              "12    102\n",
              "13    103\n",
              "14    104\n",
              "15    105\n",
              "dtype: int64"
            ]
          },
          "metadata": {
            "tags": []
          },
          "execution_count": 41
        }
      ]
    },
    {
      "cell_type": "code",
      "metadata": {
        "id": "IxOauaOBilKk",
        "colab_type": "code",
        "outputId": "4971fc27-a18c-4756-d134-17f1d3154722",
        "colab": {}
      },
      "source": [
        "# items at position 1, 3, 5\n",
        "s[1:6:2]"
      ],
      "execution_count": 0,
      "outputs": [
        {
          "output_type": "execute_result",
          "data": {
            "text/plain": [
              "11    101\n",
              "13    103\n",
              "15    105\n",
              "dtype: int64"
            ]
          },
          "metadata": {
            "tags": []
          },
          "execution_count": 42
        }
      ]
    },
    {
      "cell_type": "code",
      "metadata": {
        "id": "QyGA2aNKilKn",
        "colab_type": "code",
        "outputId": "ce1f9244-c318-4ae9-cdad-914243706601",
        "colab": {}
      },
      "source": [
        "# first five by slicing, same as .head(5)\n",
        "s[:5]"
      ],
      "execution_count": 0,
      "outputs": [
        {
          "output_type": "execute_result",
          "data": {
            "text/plain": [
              "10    100\n",
              "11    101\n",
              "12    102\n",
              "13    103\n",
              "14    104\n",
              "dtype: int64"
            ]
          },
          "metadata": {
            "tags": []
          },
          "execution_count": 43
        }
      ]
    },
    {
      "cell_type": "code",
      "metadata": {
        "id": "TpXGgfAnilKq",
        "colab_type": "code",
        "outputId": "8e40ccb0-d7ee-44ce-828d-dd46f99a7a32",
        "colab": {}
      },
      "source": [
        "# fourth position to the end\n",
        "s[4:]"
      ],
      "execution_count": 0,
      "outputs": [
        {
          "output_type": "execute_result",
          "data": {
            "text/plain": [
              "14    104\n",
              "15    105\n",
              "16    106\n",
              "17    107\n",
              "18    108\n",
              "19    109\n",
              "dtype: int64"
            ]
          },
          "metadata": {
            "tags": []
          },
          "execution_count": 44
        }
      ]
    },
    {
      "cell_type": "code",
      "metadata": {
        "id": "l08I4-w-ilKs",
        "colab_type": "code",
        "outputId": "9c99667f-90a5-410e-a015-2796d0f8d65f",
        "colab": {}
      },
      "source": [
        "# every other item in the first five positions\n",
        "s[:5:2]"
      ],
      "execution_count": 0,
      "outputs": [
        {
          "output_type": "execute_result",
          "data": {
            "text/plain": [
              "10    100\n",
              "12    102\n",
              "14    104\n",
              "dtype: int64"
            ]
          },
          "metadata": {
            "tags": []
          },
          "execution_count": 45
        }
      ]
    },
    {
      "cell_type": "code",
      "metadata": {
        "id": "s0AngOyHilKv",
        "colab_type": "code",
        "outputId": "ac5f103c-3d43-4093-d8b9-af1145e7670f",
        "colab": {}
      },
      "source": [
        "# every other item starting at the fourth position\n",
        "s[4::2]"
      ],
      "execution_count": 0,
      "outputs": [
        {
          "output_type": "execute_result",
          "data": {
            "text/plain": [
              "14    104\n",
              "16    106\n",
              "18    108\n",
              "dtype: int64"
            ]
          },
          "metadata": {
            "tags": []
          },
          "execution_count": 46
        }
      ]
    },
    {
      "cell_type": "code",
      "metadata": {
        "id": "GD5qVedxilKx",
        "colab_type": "code",
        "outputId": "c25801df-c76e-43ac-ee46-94c64f9285c5",
        "colab": {}
      },
      "source": [
        "# reverse the Series\n",
        "s[::-1]"
      ],
      "execution_count": 0,
      "outputs": [
        {
          "output_type": "execute_result",
          "data": {
            "text/plain": [
              "19    109\n",
              "18    108\n",
              "17    107\n",
              "16    106\n",
              "15    105\n",
              "14    104\n",
              "13    103\n",
              "12    102\n",
              "11    101\n",
              "10    100\n",
              "dtype: int64"
            ]
          },
          "metadata": {
            "tags": []
          },
          "execution_count": 47
        }
      ]
    },
    {
      "cell_type": "code",
      "metadata": {
        "id": "GGPxb-j6ilKy",
        "colab_type": "code",
        "outputId": "e94763c2-c323-410e-cd8f-2a27ae5f13f8",
        "colab": {}
      },
      "source": [
        "# every other starting at position 4, in reverse\n",
        "s[4::-2]"
      ],
      "execution_count": 0,
      "outputs": [
        {
          "output_type": "execute_result",
          "data": {
            "text/plain": [
              "14    104\n",
              "12    102\n",
              "10    100\n",
              "dtype: int64"
            ]
          },
          "metadata": {
            "tags": []
          },
          "execution_count": 48
        }
      ]
    },
    {
      "cell_type": "code",
      "metadata": {
        "id": "gAqRMwqBilK1",
        "colab_type": "code",
        "outputId": "1f87ed20-fe63-4422-eb24-007487e782e3",
        "colab": {}
      },
      "source": [
        "# -4:, which means the last 4 rows\n",
        "s[-4:]"
      ],
      "execution_count": 0,
      "outputs": [
        {
          "output_type": "execute_result",
          "data": {
            "text/plain": [
              "16    106\n",
              "17    107\n",
              "18    108\n",
              "19    109\n",
              "dtype: int64"
            ]
          },
          "metadata": {
            "tags": []
          },
          "execution_count": 49
        }
      ]
    },
    {
      "cell_type": "code",
      "metadata": {
        "id": "vMzAVzzhilK3",
        "colab_type": "code",
        "outputId": "4c0dc8e0-8b8d-4f8d-d25d-999f99391102",
        "colab": {}
      },
      "source": [
        "# :-4, all but the last 4\n",
        "s[:-4]"
      ],
      "execution_count": 0,
      "outputs": [
        {
          "output_type": "execute_result",
          "data": {
            "text/plain": [
              "10    100\n",
              "11    101\n",
              "12    102\n",
              "13    103\n",
              "14    104\n",
              "15    105\n",
              "dtype: int64"
            ]
          },
          "metadata": {
            "tags": []
          },
          "execution_count": 50
        }
      ]
    },
    {
      "cell_type": "code",
      "metadata": {
        "id": "wWwlnJptilK5",
        "colab_type": "code",
        "outputId": "eae3bb7a-f971-4740-fd7b-00c6a4cbd502",
        "colab": {}
      },
      "source": [
        "# equivalent to s.tail(4).head(3)\n",
        "s[-4:-1]"
      ],
      "execution_count": 0,
      "outputs": [
        {
          "output_type": "execute_result",
          "data": {
            "text/plain": [
              "16    106\n",
              "17    107\n",
              "18    108\n",
              "dtype: int64"
            ]
          },
          "metadata": {
            "tags": []
          },
          "execution_count": 51
        }
      ]
    },
    {
      "cell_type": "code",
      "metadata": {
        "id": "HGE8dlGAilK7",
        "colab_type": "code",
        "outputId": "fb77605d-2739-4c5c-ea65-a5f6112d53c5",
        "colab": {}
      },
      "source": [
        "# used to demonstrate the next two slices\n",
        "s = pd.Series(np.arange(0, 5), \n",
        "              index=['a', 'b', 'c', 'd', 'e'])\n",
        "s"
      ],
      "execution_count": 0,
      "outputs": [
        {
          "output_type": "execute_result",
          "data": {
            "text/plain": [
              "a    0\n",
              "b    1\n",
              "c    2\n",
              "d    3\n",
              "e    4\n",
              "dtype: int64"
            ]
          },
          "metadata": {
            "tags": []
          },
          "execution_count": 52
        }
      ]
    },
    {
      "cell_type": "code",
      "metadata": {
        "id": "Ys9HEaJGilK8",
        "colab_type": "code",
        "outputId": "695652e5-bf0d-45c2-b113-74787bd2ef58",
        "colab": {}
      },
      "source": [
        "# slices by position as the index is characters\n",
        "s[1:3]"
      ],
      "execution_count": 0,
      "outputs": [
        {
          "output_type": "execute_result",
          "data": {
            "text/plain": [
              "b    1\n",
              "c    2\n",
              "dtype: int64"
            ]
          },
          "metadata": {
            "tags": []
          },
          "execution_count": 53
        }
      ]
    },
    {
      "cell_type": "code",
      "metadata": {
        "id": "loGMcBPRilK-",
        "colab_type": "code",
        "outputId": "a1947594-7cb9-44f0-d9dc-c89f6736ad06",
        "colab": {}
      },
      "source": [
        "# this slices by the strings in the index\n",
        "s['b':'d']"
      ],
      "execution_count": 0,
      "outputs": [
        {
          "output_type": "execute_result",
          "data": {
            "text/plain": [
              "b    1\n",
              "c    2\n",
              "d    3\n",
              "dtype: int64"
            ]
          },
          "metadata": {
            "tags": []
          },
          "execution_count": 54
        }
      ]
    },
    {
      "cell_type": "markdown",
      "metadata": {
        "id": "iJSumXAPilLA",
        "colab_type": "text"
      },
      "source": [
        "# Alignment via index labels"
      ]
    },
    {
      "cell_type": "code",
      "metadata": {
        "id": "EAJ4ScLuilLB",
        "colab_type": "code",
        "outputId": "1c5e4d2f-f0c9-45f5-f817-2ad6232a00b1",
        "colab": {}
      },
      "source": [
        "# First series for alignment\n",
        "s1 = pd.Series([1, 2], index=['a', 'b'])\n",
        "s1"
      ],
      "execution_count": 0,
      "outputs": [
        {
          "output_type": "execute_result",
          "data": {
            "text/plain": [
              "a    1\n",
              "b    2\n",
              "dtype: int64"
            ]
          },
          "metadata": {
            "tags": []
          },
          "execution_count": 55
        }
      ]
    },
    {
      "cell_type": "code",
      "metadata": {
        "id": "GCzm8LMqilLC",
        "colab_type": "code",
        "outputId": "f2cdd47b-6cc3-4694-dfe6-721ca42f7938",
        "colab": {}
      },
      "source": [
        "# Second series for alignment\n",
        "s2 = pd.Series([4, 3], index=['b', 'a'])\n",
        "s2"
      ],
      "execution_count": 0,
      "outputs": [
        {
          "output_type": "execute_result",
          "data": {
            "text/plain": [
              "b    4\n",
              "a    3\n",
              "dtype: int64"
            ]
          },
          "metadata": {
            "tags": []
          },
          "execution_count": 56
        }
      ]
    },
    {
      "cell_type": "code",
      "metadata": {
        "id": "KEKDA32wilLG",
        "colab_type": "code",
        "outputId": "512baf4b-3d85-4f71-8abb-416a887a5493",
        "colab": {}
      },
      "source": [
        "# add them\n",
        "s1 + s2"
      ],
      "execution_count": 0,
      "outputs": [
        {
          "output_type": "execute_result",
          "data": {
            "text/plain": [
              "a    4\n",
              "b    6\n",
              "dtype: int64"
            ]
          },
          "metadata": {
            "tags": []
          },
          "execution_count": 57
        }
      ]
    },
    {
      "cell_type": "code",
      "metadata": {
        "id": "pY6Rq8AfilLI",
        "colab_type": "code",
        "outputId": "7e9888de-26b4-422d-c7c0-c4fd9a8a19c4",
        "colab": {}
      },
      "source": [
        "# multiply all values in s3 by 2\n",
        "s1 * 2"
      ],
      "execution_count": 0,
      "outputs": [
        {
          "output_type": "execute_result",
          "data": {
            "text/plain": [
              "a    2\n",
              "b    4\n",
              "dtype: int64"
            ]
          },
          "metadata": {
            "tags": []
          },
          "execution_count": 58
        }
      ]
    },
    {
      "cell_type": "code",
      "metadata": {
        "id": "USbsFaVzilLK",
        "colab_type": "code",
        "outputId": "0e5655c4-fcba-4a79-d400-a449e05c37a9",
        "colab": {}
      },
      "source": [
        "# scalar series using s3's index\n",
        "t = pd.Series(2, s1.index)\n",
        "t"
      ],
      "execution_count": 0,
      "outputs": [
        {
          "output_type": "execute_result",
          "data": {
            "text/plain": [
              "a    2\n",
              "b    2\n",
              "dtype: int64"
            ]
          },
          "metadata": {
            "tags": []
          },
          "execution_count": 59
        }
      ]
    },
    {
      "cell_type": "code",
      "metadata": {
        "id": "44g1l6j2ilLM",
        "colab_type": "code",
        "outputId": "1bb27706-1bfd-4f31-901a-be60a0661fc1",
        "colab": {}
      },
      "source": [
        "# multiply s1 by t\n",
        "s1 * t"
      ],
      "execution_count": 0,
      "outputs": [
        {
          "output_type": "execute_result",
          "data": {
            "text/plain": [
              "a    2\n",
              "b    4\n",
              "dtype: int64"
            ]
          },
          "metadata": {
            "tags": []
          },
          "execution_count": 60
        }
      ]
    },
    {
      "cell_type": "code",
      "metadata": {
        "id": "AceQfM6MilLO",
        "colab_type": "code",
        "outputId": "f7b873fa-0170-4fa9-fb29-36e600e21bf2",
        "colab": {}
      },
      "source": [
        "# we will add this to s1\n",
        "s3 = pd.Series([5, 6], index=['b', 'c'])\n",
        "s3"
      ],
      "execution_count": 0,
      "outputs": [
        {
          "output_type": "execute_result",
          "data": {
            "text/plain": [
              "b    5\n",
              "c    6\n",
              "dtype: int64"
            ]
          },
          "metadata": {
            "tags": []
          },
          "execution_count": 61
        }
      ]
    },
    {
      "cell_type": "code",
      "metadata": {
        "id": "ULLjVcvvilLP",
        "colab_type": "code",
        "outputId": "ac6476e2-1906-41e2-f167-1d1f8c1b9298",
        "colab": {}
      },
      "source": [
        "# s1 and s3 have different sets of index labels\n",
        "# NaN will result for a and c\n",
        "s1 + s3"
      ],
      "execution_count": 0,
      "outputs": [
        {
          "output_type": "execute_result",
          "data": {
            "text/plain": [
              "a    NaN\n",
              "b    7.0\n",
              "c    NaN\n",
              "dtype: float64"
            ]
          },
          "metadata": {
            "tags": []
          },
          "execution_count": 62
        }
      ]
    },
    {
      "cell_type": "code",
      "metadata": {
        "id": "LfbNMbbgilLR",
        "colab_type": "code",
        "outputId": "481d1062-18da-44e8-e4c2-95806ec6bc88",
        "colab": {}
      },
      "source": [
        "# 2 'a' labels\n",
        "s1 = pd.Series([1.0, 2.0, 3.0], index=['a', 'a', 'b'])\n",
        "s1"
      ],
      "execution_count": 0,
      "outputs": [
        {
          "output_type": "execute_result",
          "data": {
            "text/plain": [
              "a    1.0\n",
              "a    2.0\n",
              "b    3.0\n",
              "dtype: float64"
            ]
          },
          "metadata": {
            "tags": []
          },
          "execution_count": 63
        }
      ]
    },
    {
      "cell_type": "code",
      "metadata": {
        "id": "Jd0f231EilLT",
        "colab_type": "code",
        "outputId": "0a486867-d332-47c2-be83-57e688fbae30",
        "colab": {}
      },
      "source": [
        "# 3 a labels\n",
        "s2 = pd.Series([4.0, 5.0, 6.0, 7.0], index=['a', 'a', 'c', 'a'])\n",
        "s2"
      ],
      "execution_count": 0,
      "outputs": [
        {
          "output_type": "execute_result",
          "data": {
            "text/plain": [
              "a    4.0\n",
              "a    5.0\n",
              "c    6.0\n",
              "a    7.0\n",
              "dtype: float64"
            ]
          },
          "metadata": {
            "tags": []
          },
          "execution_count": 64
        }
      ]
    },
    {
      "cell_type": "code",
      "metadata": {
        "id": "Uy0arFnVilLW",
        "colab_type": "code",
        "outputId": "3652f7d0-34b3-4a2f-c05d-07bc3000ba39",
        "colab": {}
      },
      "source": [
        "# will result in 6 'a' index labels, and NaN for b and c\n",
        "s1 + s2"
      ],
      "execution_count": 0,
      "outputs": [
        {
          "output_type": "execute_result",
          "data": {
            "text/plain": [
              "a    5.0\n",
              "a    6.0\n",
              "a    8.0\n",
              "a    6.0\n",
              "a    7.0\n",
              "a    9.0\n",
              "b    NaN\n",
              "c    NaN\n",
              "dtype: float64"
            ]
          },
          "metadata": {
            "tags": []
          },
          "execution_count": 65
        }
      ]
    },
    {
      "cell_type": "markdown",
      "metadata": {
        "id": "z2f9rAguilLY",
        "colab_type": "text"
      },
      "source": [
        "# Boolean selection"
      ]
    },
    {
      "cell_type": "code",
      "metadata": {
        "id": "nISE-m_uilLY",
        "colab_type": "code",
        "outputId": "b9d19dda-4fbc-4a03-9fe7-8cf132f26ed6",
        "colab": {}
      },
      "source": [
        "# which rows have values that are > 5?\n",
        "s = pd.Series(np.arange(0, 5), index=list('abcde'))\n",
        "logical_results = s >= 3\n",
        "logical_results"
      ],
      "execution_count": 0,
      "outputs": [
        {
          "output_type": "execute_result",
          "data": {
            "text/plain": [
              "a    False\n",
              "b    False\n",
              "c    False\n",
              "d     True\n",
              "e     True\n",
              "dtype: bool"
            ]
          },
          "metadata": {
            "tags": []
          },
          "execution_count": 66
        }
      ]
    },
    {
      "cell_type": "code",
      "metadata": {
        "id": "IGDUdHf2ilLa",
        "colab_type": "code",
        "outputId": "e83ef6d7-bd1d-4c8d-a655-728b9914f289",
        "colab": {}
      },
      "source": [
        "# select where True\n",
        "s[logical_results]"
      ],
      "execution_count": 0,
      "outputs": [
        {
          "output_type": "execute_result",
          "data": {
            "text/plain": [
              "d    3\n",
              "e    4\n",
              "dtype: int64"
            ]
          },
          "metadata": {
            "tags": []
          },
          "execution_count": 67
        }
      ]
    },
    {
      "cell_type": "code",
      "metadata": {
        "id": "ThB2ahSPilLc",
        "colab_type": "code",
        "outputId": "e3e24e7a-1e72-4d57-80e5-8a4cef2bd225",
        "colab": {}
      },
      "source": [
        "# a little shorter version\n",
        "s[s > 5]"
      ],
      "execution_count": 0,
      "outputs": [
        {
          "output_type": "execute_result",
          "data": {
            "text/plain": [
              "Series([], dtype: int64)"
            ]
          },
          "metadata": {
            "tags": []
          },
          "execution_count": 68
        }
      ]
    },
    {
      "cell_type": "code",
      "metadata": {
        "id": "G559rLxfilLe",
        "colab_type": "code",
        "colab": {}
      },
      "source": [
        "# commented as it throws an exception\n",
        "# s[s >= 2 and s < 5]"
      ],
      "execution_count": 0,
      "outputs": []
    },
    {
      "cell_type": "code",
      "metadata": {
        "id": "p8vLpI1VilLf",
        "colab_type": "code",
        "outputId": "cf6aa526-9365-4229-cbd6-1ace370bfe4c",
        "colab": {}
      },
      "source": [
        "# correct syntax\n",
        "s[(s >=2) & (s < 5)]"
      ],
      "execution_count": 0,
      "outputs": [
        {
          "output_type": "execute_result",
          "data": {
            "text/plain": [
              "c    2\n",
              "d    3\n",
              "e    4\n",
              "dtype: int64"
            ]
          },
          "metadata": {
            "tags": []
          },
          "execution_count": 70
        }
      ]
    },
    {
      "cell_type": "code",
      "metadata": {
        "id": "-hMUWjoAilLj",
        "colab_type": "code",
        "outputId": "e776f9e2-8fc0-47dc-b62f-917f60255518",
        "colab": {}
      },
      "source": [
        "# are all items >= 0?\n",
        "(s >= 0).all()"
      ],
      "execution_count": 0,
      "outputs": [
        {
          "output_type": "execute_result",
          "data": {
            "text/plain": [
              "True"
            ]
          },
          "metadata": {
            "tags": []
          },
          "execution_count": 71
        }
      ]
    },
    {
      "cell_type": "code",
      "metadata": {
        "id": "yACzNzQWilLm",
        "colab_type": "code",
        "outputId": "f65d074e-eb4d-430c-ce39-8ec86fd4f952",
        "colab": {}
      },
      "source": [
        "# any items < 2?\n",
        "s[s < 2].any()"
      ],
      "execution_count": 0,
      "outputs": [
        {
          "output_type": "execute_result",
          "data": {
            "text/plain": [
              "True"
            ]
          },
          "metadata": {
            "tags": []
          },
          "execution_count": 72
        }
      ]
    },
    {
      "cell_type": "code",
      "metadata": {
        "id": "Mij4BdctilLn",
        "colab_type": "code",
        "outputId": "cc23ce01-ebd2-4f78-8f05-ca79b3cfb67e",
        "colab": {}
      },
      "source": [
        "# how many values < 2?\n",
        "(s < 2).sum()"
      ],
      "execution_count": 0,
      "outputs": [
        {
          "output_type": "execute_result",
          "data": {
            "text/plain": [
              "2"
            ]
          },
          "metadata": {
            "tags": []
          },
          "execution_count": 73
        }
      ]
    },
    {
      "cell_type": "markdown",
      "metadata": {
        "id": "oGa-7pS8ilLp",
        "colab_type": "text"
      },
      "source": [
        "# Reindexing a Series"
      ]
    },
    {
      "cell_type": "code",
      "metadata": {
        "id": "_i0oOjjDilLq",
        "colab_type": "code",
        "outputId": "ecec4263-cae1-4745-9131-49572a470ed6",
        "colab": {}
      },
      "source": [
        "# sample series of five items\n",
        "np.random.seed(123456)\n",
        "s = pd.Series(np.random.randn(5))\n",
        "s"
      ],
      "execution_count": 0,
      "outputs": [
        {
          "output_type": "execute_result",
          "data": {
            "text/plain": [
              "0    0.469112\n",
              "1   -0.282863\n",
              "2   -1.509059\n",
              "3   -1.135632\n",
              "4    1.212112\n",
              "dtype: float64"
            ]
          },
          "metadata": {
            "tags": []
          },
          "execution_count": 74
        }
      ]
    },
    {
      "cell_type": "code",
      "metadata": {
        "id": "KqEiouSVilLr",
        "colab_type": "code",
        "outputId": "d9a3bcfe-492d-44f5-d7be-e735e8f46f71",
        "colab": {}
      },
      "source": [
        "# change the index\n",
        "s.index = ['a', 'b', 'c', 'd', 'e']\n",
        "s"
      ],
      "execution_count": 0,
      "outputs": [
        {
          "output_type": "execute_result",
          "data": {
            "text/plain": [
              "a    0.469112\n",
              "b   -0.282863\n",
              "c   -1.509059\n",
              "d   -1.135632\n",
              "e    1.212112\n",
              "dtype: float64"
            ]
          },
          "metadata": {
            "tags": []
          },
          "execution_count": 75
        }
      ]
    },
    {
      "cell_type": "code",
      "metadata": {
        "id": "ZgoTiyiuilLv",
        "colab_type": "code",
        "outputId": "98b62f59-9c8d-4882-b7ae-6ae27d2ea7fb",
        "colab": {}
      },
      "source": [
        "# a series that we will reindex\n",
        "np.random.seed(123456)\n",
        "s1 = pd.Series(np.random.randn(4), ['a', 'b', 'c', 'd'])\n",
        "s1"
      ],
      "execution_count": 0,
      "outputs": [
        {
          "output_type": "execute_result",
          "data": {
            "text/plain": [
              "a    0.469112\n",
              "b   -0.282863\n",
              "c   -1.509059\n",
              "d   -1.135632\n",
              "dtype: float64"
            ]
          },
          "metadata": {
            "tags": []
          },
          "execution_count": 76
        }
      ]
    },
    {
      "cell_type": "code",
      "metadata": {
        "id": "KdzdkX2lilLw",
        "colab_type": "code",
        "outputId": "1eca006c-bf93-41c9-eef7-8dc9938e353f",
        "colab": {}
      },
      "source": [
        "# reindex with different number of labels\n",
        "# results in dropped rows and/or NaN's\n",
        "s2 = s1.reindex(['a', 'c', 'g'])\n",
        "s2"
      ],
      "execution_count": 0,
      "outputs": [
        {
          "output_type": "execute_result",
          "data": {
            "text/plain": [
              "a    0.469112\n",
              "c   -1.509059\n",
              "g         NaN\n",
              "dtype: float64"
            ]
          },
          "metadata": {
            "tags": []
          },
          "execution_count": 77
        }
      ]
    },
    {
      "cell_type": "code",
      "metadata": {
        "id": "cHuZLqQSilLy",
        "colab_type": "code",
        "outputId": "5d6fe869-bc28-4104-9211-c4e3fac8eb22",
        "colab": {}
      },
      "source": [
        "# different types for the same values of labels\n",
        "# causes big trouble\n",
        "s1 = pd.Series([0, 1, 2], index=[0, 1, 2])\n",
        "s2 = pd.Series([3, 4, 5], index=['0', '1', '2'])\n",
        "s1 + s2"
      ],
      "execution_count": 0,
      "outputs": [
        {
          "output_type": "execute_result",
          "data": {
            "text/plain": [
              "0   NaN\n",
              "1   NaN\n",
              "2   NaN\n",
              "0   NaN\n",
              "1   NaN\n",
              "2   NaN\n",
              "dtype: float64"
            ]
          },
          "metadata": {
            "tags": []
          },
          "execution_count": 78
        }
      ]
    },
    {
      "cell_type": "code",
      "metadata": {
        "id": "P7CL9qAJilLz",
        "colab_type": "code",
        "outputId": "ca2e842a-dead-4306-9a26-a4a25c645c90",
        "colab": {}
      },
      "source": [
        "# reindex by casting the label types\n",
        "# and we will get the desired result\n",
        "s2.index = s2.index.values.astype(int)\n",
        "s1 + s2"
      ],
      "execution_count": 0,
      "outputs": [
        {
          "output_type": "execute_result",
          "data": {
            "text/plain": [
              "0    3\n",
              "1    5\n",
              "2    7\n",
              "dtype: int64"
            ]
          },
          "metadata": {
            "tags": []
          },
          "execution_count": 79
        }
      ]
    },
    {
      "cell_type": "code",
      "metadata": {
        "id": "39slh8aYilL0",
        "colab_type": "code",
        "outputId": "14a5f998-2664-4fd0-9fc4-5531efb11e5f",
        "colab": {}
      },
      "source": [
        "# fill with 0 instead of NaN\n",
        "s2 = s.copy()\n",
        "s2.reindex(['a', 'f'], fill_value=0)"
      ],
      "execution_count": 0,
      "outputs": [
        {
          "output_type": "execute_result",
          "data": {
            "text/plain": [
              "a    0.469112\n",
              "f    0.000000\n",
              "dtype: float64"
            ]
          },
          "metadata": {
            "tags": []
          },
          "execution_count": 80
        }
      ]
    },
    {
      "cell_type": "code",
      "metadata": {
        "id": "YcYK4_1iilL2",
        "colab_type": "code",
        "outputId": "7f2490c0-ee72-4779-ff5c-da618989586e",
        "colab": {}
      },
      "source": [
        "# create example to demonstrate fills\n",
        "s3 = pd.Series(['red', 'green', 'blue'], index=[0, 3, 5])\n",
        "s3"
      ],
      "execution_count": 0,
      "outputs": [
        {
          "output_type": "execute_result",
          "data": {
            "text/plain": [
              "0      red\n",
              "3    green\n",
              "5     blue\n",
              "dtype: object"
            ]
          },
          "metadata": {
            "tags": []
          },
          "execution_count": 81
        }
      ]
    },
    {
      "cell_type": "code",
      "metadata": {
        "id": "S_O2MKqIilL3",
        "colab_type": "code",
        "outputId": "13069eff-cc00-4d3c-c0fe-13713091b28b",
        "colab": {}
      },
      "source": [
        "# forward fill example\n",
        "s3.reindex(np.arange(0,7), method='ffill')"
      ],
      "execution_count": 0,
      "outputs": [
        {
          "output_type": "execute_result",
          "data": {
            "text/plain": [
              "0      red\n",
              "1      red\n",
              "2      red\n",
              "3    green\n",
              "4    green\n",
              "5     blue\n",
              "6     blue\n",
              "dtype: object"
            ]
          },
          "metadata": {
            "tags": []
          },
          "execution_count": 82
        }
      ]
    },
    {
      "cell_type": "code",
      "metadata": {
        "id": "yBMqAudEilL4",
        "colab_type": "code",
        "outputId": "daf9259f-d584-49ff-b779-62901f24fd34",
        "colab": {}
      },
      "source": [
        "# backwards fill example\n",
        "s3.reindex(np.arange(0,7), method='bfill')"
      ],
      "execution_count": 0,
      "outputs": [
        {
          "output_type": "execute_result",
          "data": {
            "text/plain": [
              "0      red\n",
              "1    green\n",
              "2    green\n",
              "3    green\n",
              "4     blue\n",
              "5     blue\n",
              "6      NaN\n",
              "dtype: object"
            ]
          },
          "metadata": {
            "tags": []
          },
          "execution_count": 83
        }
      ]
    },
    {
      "cell_type": "markdown",
      "metadata": {
        "id": "gZ5qQmf2ilL6",
        "colab_type": "text"
      },
      "source": [
        "# Modifying a Series in-place"
      ]
    },
    {
      "cell_type": "code",
      "metadata": {
        "id": "WTlmrYdyilL7",
        "colab_type": "code",
        "outputId": "2f4cdbc6-f73a-423c-aa1e-58c10d897d86",
        "colab": {}
      },
      "source": [
        "# generate a Series to play with\n",
        "np.random.seed(123456)\n",
        "s = pd.Series(np.random.randn(3), index=['a', 'b', 'c'])\n",
        "s"
      ],
      "execution_count": 0,
      "outputs": [
        {
          "output_type": "execute_result",
          "data": {
            "text/plain": [
              "a    0.469112\n",
              "b   -0.282863\n",
              "c   -1.509059\n",
              "dtype: float64"
            ]
          },
          "metadata": {
            "tags": []
          },
          "execution_count": 84
        }
      ]
    },
    {
      "cell_type": "code",
      "metadata": {
        "id": "XGrQhdvoilL8",
        "colab_type": "code",
        "outputId": "6f8aa702-ed63-4aed-87d6-3a9290b23120",
        "colab": {}
      },
      "source": [
        "# change a value in the Series\n",
        "# this is done in-place\n",
        "# a new Series is not returned that has a modified value\n",
        "s['d'] = 100\n",
        "s"
      ],
      "execution_count": 0,
      "outputs": [
        {
          "output_type": "execute_result",
          "data": {
            "text/plain": [
              "a      0.469112\n",
              "b     -0.282863\n",
              "c     -1.509059\n",
              "d    100.000000\n",
              "dtype: float64"
            ]
          },
          "metadata": {
            "tags": []
          },
          "execution_count": 85
        }
      ]
    },
    {
      "cell_type": "code",
      "metadata": {
        "id": "LITiC6MJilL9",
        "colab_type": "code",
        "outputId": "af346025-9e32-4358-e6ed-d5ddbce31cfc",
        "colab": {}
      },
      "source": [
        "# modify the value at 'd' in-place\n",
        "s['d'] = -100\n",
        "s"
      ],
      "execution_count": 0,
      "outputs": [
        {
          "output_type": "execute_result",
          "data": {
            "text/plain": [
              "a      0.469112\n",
              "b     -0.282863\n",
              "c     -1.509059\n",
              "d   -100.000000\n",
              "dtype: float64"
            ]
          },
          "metadata": {
            "tags": []
          },
          "execution_count": 86
        }
      ]
    },
    {
      "cell_type": "code",
      "metadata": {
        "id": "CmNkqjrBilL_",
        "colab_type": "code",
        "outputId": "406e8205-e16c-4e4d-ca76-f6459f2eab2f",
        "colab": {}
      },
      "source": [
        "# remove a row / item\n",
        "del(s['a'])\n",
        "s"
      ],
      "execution_count": 0,
      "outputs": [
        {
          "output_type": "execute_result",
          "data": {
            "text/plain": [
              "b     -0.282863\n",
              "c     -1.509059\n",
              "d   -100.000000\n",
              "dtype: float64"
            ]
          },
          "metadata": {
            "tags": []
          },
          "execution_count": 87
        }
      ]
    },
    {
      "cell_type": "code",
      "metadata": {
        "id": "23b4q40kilMA",
        "colab_type": "code",
        "outputId": "f3635132-7eae-4d8e-cd9f-0a7cfb412dac",
        "colab": {}
      },
      "source": [
        "copy = s.copy() # preserve s\n",
        "slice = copy[:2] # slice with first two rows\n",
        "slice"
      ],
      "execution_count": 0,
      "outputs": [
        {
          "output_type": "execute_result",
          "data": {
            "text/plain": [
              "b   -0.282863\n",
              "c   -1.509059\n",
              "dtype: float64"
            ]
          },
          "metadata": {
            "tags": []
          },
          "execution_count": 88
        }
      ]
    },
    {
      "cell_type": "code",
      "metadata": {
        "id": "s2usgD7DilMF",
        "colab_type": "code",
        "outputId": "6afc6480-3e35-4765-ae4e-f7914b35de40",
        "colab": {}
      },
      "source": [
        "# change item with label 10 to 1000\n",
        "slice['b'] = 0\n",
        "# and see it in the source\n",
        "copy"
      ],
      "execution_count": 0,
      "outputs": [
        {
          "output_type": "execute_result",
          "data": {
            "text/plain": [
              "b      0.000000\n",
              "c     -1.509059\n",
              "d   -100.000000\n",
              "dtype: float64"
            ]
          },
          "metadata": {
            "tags": []
          },
          "execution_count": 89
        }
      ]
    }
  ]
}